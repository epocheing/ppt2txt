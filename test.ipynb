{
 "cells": [
  {
   "cell_type": "code",
   "execution_count": 7,
   "metadata": {},
   "outputs": [],
   "source": [
    "text = \"asdfsaddddddddddddddddddddddddddddddddddddddddddddddddddddddddddddddddddddddddddddddddddddddddddddddddddddddddddddddddddddddddddddddddddddddcasdca\"\n",
    "\n",
    "\n",
    "text_split = [text[i : i + 10] for i in range(0, len(text), 10)]"
   ]
  },
  {
   "cell_type": "code",
   "execution_count": 8,
   "metadata": {},
   "outputs": [
    {
     "data": {
      "text/plain": [
       "['asdfsadddd',\n",
       " 'dddddddddd',\n",
       " 'dddddddddd',\n",
       " 'dddddddddd',\n",
       " 'dddddddddd',\n",
       " 'dddddddddd',\n",
       " 'dddddddddd',\n",
       " 'dddddddddd',\n",
       " 'dddddddddd',\n",
       " 'dddddddddd',\n",
       " 'dddddddddd',\n",
       " 'dddddddddd',\n",
       " 'dddddddddd',\n",
       " 'dddddddddd',\n",
       " 'casdca']"
      ]
     },
     "execution_count": 8,
     "metadata": {},
     "output_type": "execute_result"
    }
   ],
   "source": [
    "text_split"
   ]
  },
  {
   "cell_type": "code",
   "execution_count": null,
   "metadata": {},
   "outputs": [],
   "source": []
  }
 ],
 "metadata": {
  "kernelspec": {
   "display_name": "py310",
   "language": "python",
   "name": "python3"
  },
  "language_info": {
   "codemirror_mode": {
    "name": "ipython",
    "version": 3
   },
   "file_extension": ".py",
   "mimetype": "text/x-python",
   "name": "python",
   "nbconvert_exporter": "python",
   "pygments_lexer": "ipython3",
   "version": "3.10.10"
  },
  "orig_nbformat": 4
 },
 "nbformat": 4,
 "nbformat_minor": 2
}
